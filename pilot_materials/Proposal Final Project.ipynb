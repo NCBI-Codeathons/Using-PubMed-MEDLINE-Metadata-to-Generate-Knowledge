{
 "cells": [
  {
   "cell_type": "markdown",
   "metadata": {},
   "source": [
    "# Data Science Foundations Capstone Proposal\n",
    "In order to get your capstone approved, you must complete all of the following steps."
   ]
  },
  {
   "cell_type": "markdown",
   "metadata": {},
   "source": [
    "## 1) Get your data\n",
    "You may use any data set(s) you like, so long as they meet these criteria:\n",
    "\n",
    "* Your data should be interesting to _you_. You want your capstone to be something you're proud of.\n",
    "* Your data should be \"big enough\":\n",
    "    - It should have at least 1,000 rows.\n",
    "    - It should have enough of columns to be interesting.\n",
    "    - If you have questions, contact a member of the instructional team."
   ]
  },
  {
   "cell_type": "markdown",
   "metadata": {},
   "source": [
    "## 2) Provide a link to your data\n",
    "Here, provide a URL to your data or describe how you will access it."
   ]
  },
  {
   "cell_type": "code",
   "execution_count": null,
   "metadata": {},
   "outputs": [],
   "source": [
    "# Enter link here.\n",
    "# PubMed search for Marfan and closely related Syndromes, searched using specified indexed MeSH Headings on July 24, 2019\n",
    "https://www.ncbi.nlm.nih.gov/pubmed/?term=Marfan+Syndrome+%5BMH%5D+OR+Loeys-Dietz+Syndrome+%5BMH%5D+OR+Ehlers-Danlos+Syndrome+%5BMH%5D+OR+Weill-Marchesani+Syndrome+%5BMH%5D%22"
   ]
  },
  {
   "cell_type": "code",
   "execution_count": null,
   "metadata": {},
   "outputs": [],
   "source": [
    "# I have uploaded data in the file data_pubmed_marfan1.csv on July 24. \n",
    "# Below is the Biopython program used for eSearch and eFetch in PubMed"
   ]
  },
  {
   "cell_type": "markdown",
   "metadata": {},
   "source": [
    "## 3) Import your data\n",
    "In the space below, import your data. If your data span multiple files, read them all in. If applicable, merge or append them as needed."
   ]
  },
  {
   "cell_type": "code",
   "execution_count": 2,
   "metadata": {},
   "outputs": [],
   "source": [
    "from Bio import Entrez\n",
    "from Bio import Medline\n",
    "import pandas as pd\n",
    "import time\n",
    "Entrez.email = \"Preeti.Kochar@nih.gov\" \n",
    "# The code to search and import PubMed data to Jupyter Lab shared with me by Melanie Huston, a colleague"
   ]
  },
  {
   "cell_type": "code",
   "execution_count": 3,
   "metadata": {},
   "outputs": [],
   "source": [
    "# return a list of the PMIDs that match your search term\n",
    "\n",
    "def getPubMedIDs(searchstring,maxrecords):\n",
    "    IDlist=[]\n",
    "    if not maxrecords > 100000: #maximum possible = 100,000 records\n",
    "        handle = Entrez.esearch(db=\"pubmed\", term=searchstring, retmax = maxrecords) \n",
    "        result = Entrez.read(handle)\n",
    "        IDlist= result[\"IdList\"]\n",
    "        handle.close()\n",
    "\n",
    "    return IDlist"
   ]
  },
  {
   "cell_type": "code",
   "execution_count": 4,
   "metadata": {},
   "outputs": [],
   "source": [
    "# get MEDLINE data records for each PMID and store in a dataframe\n",
    "# searchPMIDlist was created by getPubMedIDs function\n",
    "# this will only get the first 10000 records from your PMID list\n",
    "\n",
    "def getPubMeddata(searchPMIDlist,dataframename):\n",
    "    \n",
    "    # a trick to remove duplicates from the PMID list using set and list\n",
    "    searchPMIDlist = list(set(searchPMIDlist))\n",
    "    \n",
    "    # for displaying number of records processed\n",
    "    counter=0\n",
    "    \n",
    "    # get MEDLINE data records\n",
    "    fetchhandle = Entrez.efetch(db=\"pubmed\", id=searchPMIDlist, rettype=\"medline\", retmode=\"text\")\n",
    "    fetchresult = Medline.parse(fetchhandle)\n",
    "\n",
    "    # parse the dictionary of returned records\n",
    "    for record in fetchresult: \n",
    "        if \"PMID\" not in record: # if there's no PMID in this record (rare), skip it\n",
    "            continue\n",
    "        JT=''\n",
    "        if \"JT\" in record:\n",
    "            JT=record[\"JT\"]\n",
    "        PT=''\n",
    "        if \"PT\" in record: # if there's a pub type list in this record, store it\n",
    "            PT=record[\"PT\"]\n",
    "        TI=''\n",
    "        if \"TI\" in record: # if there's a title in this record, store it\n",
    "            TI=record[\"TI\"]\n",
    "        AB=''\n",
    "        if \"AB\" in record: # if there's an abstract in this record, store it\n",
    "            AB=record[\"AB\"]\n",
    "        else: \"NA\"\n",
    "        MH=''\n",
    "        if \"MH\" in record:\n",
    "            MH=record[\"MH\"]\n",
    "\n",
    "        # put the data you found into a new row in the dataframe\n",
    "        # you might want to collect different data for your purposes\n",
    "        dataframename = dataframename.append({'PMID': record [\"PMID\"],\n",
    "                                     'Journal': JT,\n",
    "                                     'PT': PT,\n",
    "                                     'Title': TI,\n",
    "                                     'Abstract': AB, \n",
    "                                     'MeSH Terms' : MH}, ignore_index=True)\n",
    "        \n",
    "         # if we've processed 500 new records, display number of records processed\n",
    "        counter += 1\n",
    "        if not counter % 500:\n",
    "            print(counter, \"records processed\") \n",
    "            \n",
    "    time.sleep(5) # wait time between repeated fetches\n",
    "    fetchhandle.close()\n",
    "    \n",
    "    return dataframename\n",
    "        "
   ]
  },
  {
   "cell_type": "code",
   "execution_count": 5,
   "metadata": {},
   "outputs": [
    {
     "name": "stdout",
     "output_type": "stream",
     "text": [
      "Search string: Marfan Syndrome [MH] OR Loeys-Dietz Syndrome [MH] OR Ehlers-Danlos Syndrome [MH] OR Weill-Marchesani Syndrome [MH]\n",
      "Total PMIDs found: 8848\n"
     ]
    }
   ],
   "source": [
    "myPMIDlist=[]\n",
    "searchstring=\"Marfan Syndrome [MH] OR Loeys-Dietz Syndrome [MH] OR Ehlers-Danlos Syndrome [MH] OR Weill-Marchesani Syndrome [MH]\"\n",
    "\n",
    "myPMIDlist = getPubMedIDs(searchstring, 10000)\n",
    "print(\"Search string:\", searchstring)\n",
    "print(\"Total PMIDs found:\",len(myPMIDlist))"
   ]
  },
  {
   "cell_type": "code",
   "execution_count": 6,
   "metadata": {},
   "outputs": [],
   "source": [
    "# initialize your dataframe for the citation record data\n",
    "# you might want to collect different data for your purposes\n",
    "\n",
    "columnlist=['PMID', 'Journal','PT', 'Title', 'Abstract','MeSH Terms']\n",
    "marfan_like = pd.DataFrame(columns=columnlist, index=None)"
   ]
  },
  {
   "cell_type": "code",
   "execution_count": 9,
   "metadata": {},
   "outputs": [
    {
     "name": "stdout",
     "output_type": "stream",
     "text": [
      "500 records processed\n",
      "1000 records processed\n",
      "1500 records processed\n",
      "2000 records processed\n",
      "2500 records processed\n",
      "3000 records processed\n",
      "3500 records processed\n",
      "4000 records processed\n",
      "4500 records processed\n",
      "5000 records processed\n",
      "5500 records processed\n",
      "6000 records processed\n",
      "6500 records processed\n",
      "7000 records processed\n",
      "7500 records processed\n",
      "8000 records processed\n",
      "8500 records processed\n",
      "Record Table Length: 8848\n"
     ]
    }
   ],
   "source": [
    "# Fetch data\n",
    "marfan_like = getPubMeddata(myPMIDlist, marfan_like) # will only get the first 10000 records from your PMID list\n",
    "print('Record Table Length:',len(marfan_like))"
   ]
  },
  {
   "cell_type": "markdown",
   "metadata": {},
   "source": [
    "## 4) Show me the head of your data."
   ]
  },
  {
   "cell_type": "code",
   "execution_count": 11,
   "metadata": {},
   "outputs": [
    {
     "data": {
      "text/html": [
       "<div>\n",
       "<style scoped>\n",
       "    .dataframe tbody tr th:only-of-type {\n",
       "        vertical-align: middle;\n",
       "    }\n",
       "\n",
       "    .dataframe tbody tr th {\n",
       "        vertical-align: top;\n",
       "    }\n",
       "\n",
       "    .dataframe thead th {\n",
       "        text-align: right;\n",
       "    }\n",
       "</style>\n",
       "<table border=\"1\" class=\"dataframe\">\n",
       "  <thead>\n",
       "    <tr style=\"text-align: right;\">\n",
       "      <th></th>\n",
       "      <th>PMID</th>\n",
       "      <th>Journal</th>\n",
       "      <th>PT</th>\n",
       "      <th>Title</th>\n",
       "      <th>Abstract</th>\n",
       "      <th>MeSH Terms</th>\n",
       "    </tr>\n",
       "  </thead>\n",
       "  <tbody>\n",
       "    <tr>\n",
       "      <th>0</th>\n",
       "      <td>2606899</td>\n",
       "      <td>Journal of biochemistry</td>\n",
       "      <td>[Journal Article, Research Support, Non-U.S. G...</td>\n",
       "      <td>Partial characterization of an unusual 185 kDa...</td>\n",
       "      <td>Production of an unusual collagenous protein w...</td>\n",
       "      <td>[Antibodies/immunology, Collagen/*analysis, El...</td>\n",
       "    </tr>\n",
       "    <tr>\n",
       "      <th>1</th>\n",
       "      <td>14302561</td>\n",
       "      <td>Clinical obstetrics and gynecology</td>\n",
       "      <td>[Journal Article]</td>\n",
       "      <td>THE MARFAN SYNDROME AND PREGNANCY.</td>\n",
       "      <td></td>\n",
       "      <td>[*Aortic Aneurysm, *Aortic Rupture, *Arachnoda...</td>\n",
       "    </tr>\n",
       "    <tr>\n",
       "      <th>2</th>\n",
       "      <td>4251765</td>\n",
       "      <td>Clinical chemistry</td>\n",
       "      <td>[Journal Article]</td>\n",
       "      <td>Ion-exchange chromatography of free amino acid...</td>\n",
       "      <td></td>\n",
       "      <td>[Amino Acids/*metabolism, Angiomatosis/metabol...</td>\n",
       "    </tr>\n",
       "    <tr>\n",
       "      <th>3</th>\n",
       "      <td>25459960</td>\n",
       "      <td>The Journal of hand surgery</td>\n",
       "      <td>[Journal Article, Review]</td>\n",
       "      <td>Ehlers-Danlos syndrome.</td>\n",
       "      <td></td>\n",
       "      <td>[Ehlers-Danlos Syndrome/*diagnosis, *Hand, Hum...</td>\n",
       "    </tr>\n",
       "    <tr>\n",
       "      <th>4</th>\n",
       "      <td>27339264</td>\n",
       "      <td>Disability and rehabilitation</td>\n",
       "      <td>[Journal Article]</td>\n",
       "      <td>The association between muscle strength and ac...</td>\n",
       "      <td>PURPOSE: The patients diagnosed with Ehlers-Da...</td>\n",
       "      <td>[Adult, Ehlers-Danlos Syndrome/*rehabilitation...</td>\n",
       "    </tr>\n",
       "  </tbody>\n",
       "</table>\n",
       "</div>"
      ],
      "text/plain": [
       "       PMID                             Journal  \\\n",
       "0   2606899             Journal of biochemistry   \n",
       "1  14302561  Clinical obstetrics and gynecology   \n",
       "2   4251765                  Clinical chemistry   \n",
       "3  25459960         The Journal of hand surgery   \n",
       "4  27339264       Disability and rehabilitation   \n",
       "\n",
       "                                                  PT  \\\n",
       "0  [Journal Article, Research Support, Non-U.S. G...   \n",
       "1                                  [Journal Article]   \n",
       "2                                  [Journal Article]   \n",
       "3                          [Journal Article, Review]   \n",
       "4                                  [Journal Article]   \n",
       "\n",
       "                                               Title  \\\n",
       "0  Partial characterization of an unusual 185 kDa...   \n",
       "1                 THE MARFAN SYNDROME AND PREGNANCY.   \n",
       "2  Ion-exchange chromatography of free amino acid...   \n",
       "3                            Ehlers-Danlos syndrome.   \n",
       "4  The association between muscle strength and ac...   \n",
       "\n",
       "                                            Abstract  \\\n",
       "0  Production of an unusual collagenous protein w...   \n",
       "1                                                      \n",
       "2                                                      \n",
       "3                                                      \n",
       "4  PURPOSE: The patients diagnosed with Ehlers-Da...   \n",
       "\n",
       "                                          MeSH Terms  \n",
       "0  [Antibodies/immunology, Collagen/*analysis, El...  \n",
       "1  [*Aortic Aneurysm, *Aortic Rupture, *Arachnoda...  \n",
       "2  [Amino Acids/*metabolism, Angiomatosis/metabol...  \n",
       "3  [Ehlers-Danlos Syndrome/*diagnosis, *Hand, Hum...  \n",
       "4  [Adult, Ehlers-Danlos Syndrome/*rehabilitation...  "
      ]
     },
     "execution_count": 11,
     "metadata": {},
     "output_type": "execute_result"
    }
   ],
   "source": [
    "marfan_like.head(5)"
   ]
  },
  {
   "cell_type": "markdown",
   "metadata": {},
   "source": [
    "## 5) Show me the shape of your data"
   ]
  },
  {
   "cell_type": "code",
   "execution_count": 12,
   "metadata": {},
   "outputs": [
    {
     "data": {
      "text/plain": [
       "(8848, 6)"
      ]
     },
     "execution_count": 12,
     "metadata": {},
     "output_type": "execute_result"
    }
   ],
   "source": [
    "marfan_like.shape"
   ]
  },
  {
   "cell_type": "markdown",
   "metadata": {},
   "source": [
    "## 6) Show me the proportion of missing observations for each column of your data"
   ]
  },
  {
   "cell_type": "code",
   "execution_count": 13,
   "metadata": {},
   "outputs": [
    {
     "data": {
      "text/plain": [
       "PMID          0\n",
       "Journal       0\n",
       "PT            0\n",
       "Title         0\n",
       "Abstract      0\n",
       "MeSH Terms    0\n",
       "dtype: int64"
      ]
     },
     "execution_count": 13,
     "metadata": {},
     "output_type": "execute_result"
    }
   ],
   "source": [
    "marfan_like.isnull().sum() # I need to look into why I get zeroes, when it's clear from the head that Abstract\n",
    "# is missing from some. "
   ]
  },
  {
   "cell_type": "markdown",
   "metadata": {},
   "source": [
    "## 7) Give me a problem statement.\n",
    "Below, write a problem statement. Keep in mind that your task is to tease out relationships in your data and eventually build a predictive model. Your problem statement can be vague, but you should have a goal in mind. Your problem statement should be between one sentence and one paragraph."
   ]
  },
  {
   "cell_type": "code",
   "execution_count": null,
   "metadata": {},
   "outputs": [],
   "source": [
    "# I plan to analyze PubMed/MEDLINE data on Marfan-like Syndromes (congenital connective tissue diseases) and genetic \n",
    "# mutation or other aspects of the diseases based mainly on the indexed MeSH terms. My Dataset is derived from a \n",
    "# PubMed search and is approx. 8500 citations.  The data will have 6 columns: The ID of the citation, the Journal, \n",
    "# the Title, Abstract and the MeSH terms indexed for each citation. \n",
    "# As I work on the data, I may import more data e.g. about the genes and also decide not the use certain columns,\n",
    "# e.g. Abstract"
   ]
  },
  {
   "cell_type": "markdown",
   "metadata": {},
   "source": [
    "## 8) What is your _y_-variable?\n",
    "For Part C of your capstone, you will need to perform a statistical model. This means you will have to accurately predict some y-variable for some combination of x-variables. From your problem statement in part 7, what is that y-variable?"
   ]
  },
  {
   "cell_type": "code",
   "execution_count": null,
   "metadata": {},
   "outputs": [],
   "source": [
    "# My y-variable will be the mesh term for the protein indexed with the specific Marfan-like syndrome. \n",
    "# The assumption is that when a particular gene is indexed in the same MEDLINE citation, that it is correlated \n",
    "# with the disease. I may explore other variables such as the pathology, disease severity, etc."
   ]
  }
 ],
 "metadata": {
  "kernelspec": {
   "display_name": "Python 3",
   "language": "python",
   "name": "python3"
  },
  "language_info": {
   "codemirror_mode": {
    "name": "ipython",
    "version": 3
   },
   "file_extension": ".py",
   "mimetype": "text/x-python",
   "name": "python",
   "nbconvert_exporter": "python",
   "pygments_lexer": "ipython3",
   "version": "3.7.3"
  }
 },
 "nbformat": 4,
 "nbformat_minor": 2
}
