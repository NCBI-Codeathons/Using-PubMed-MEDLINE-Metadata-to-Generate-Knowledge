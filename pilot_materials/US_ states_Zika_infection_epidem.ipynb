{
 "cells": [
  {
   "cell_type": "code",
   "execution_count": 1,
   "metadata": {},
   "outputs": [],
   "source": [
    "import pandas as pd\n",
    "import numpy as np\n",
    "import matplotlib.pyplot as plt\n",
    "%matplotlib inline\n",
    "import seaborn as sns\n",
    "from sklearn.model_selection import train_test_split\n",
    "from sklearn.feature_extraction.text import CountVectorizer, TfidfVectorizer\n",
    "from sklearn.naive_bayes import MultinomialNB         \n",
    "from sklearn.linear_model import LogisticRegression\n",
    "from sklearn import metrics\n",
    "from nltk.tokenize import sent_tokenize\n",
    "from nltk.stem import WordNetLemmatizer \n",
    "from nltk.stem.porter import PorterStemmer\n",
    "from sklearn.linear_model import LinearRegression\n",
    "from sklearn.neighbors import KNeighborsClassifier\n",
    "from sklearn import model_selection"
   ]
  },
  {
   "cell_type": "markdown",
   "metadata": {},
   "source": [
    "# Objective:\n",
    "### To use indexed Medical Subject Headings (MeSH) in MEDLINE citations and explore associations between Zika Virus Infections and U.S. indexed in the citations"
   ]
  },
  {
   "cell_type": "markdown",
   "metadata": {},
   "source": [
    "# Visualization:\n",
    "### Epidemiology of Zika Virus Infection"
   ]
  },
  {
   "cell_type": "code",
   "execution_count": 2,
   "metadata": {},
   "outputs": [
    {
     "name": "stdout",
     "output_type": "stream",
     "text": [
      "Complete 68 4\n"
     ]
    }
   ],
   "source": [
    "# Selection of relevant MeSH Terms: to obtain list with Geographic Locations terms from MeSH ASCII file and Zika Virus Infection search terms \n",
    "relevant_terms = []\n",
    "\n",
    "# Downloaded MeSH ASCII formathttps://www.nlm.nih.gov/databases/download/mesh.html\n",
    "fp = open('./MH Descriptor 2019.txt') \n",
    "line = \" \"\n",
    "err_count = 0\n",
    "val_count = 0\n",
    "line_count = 0\n",
    "while line != '':                  # While loop to extract only the terms that have MN = \n",
    "    try:\n",
    "        while \"MH\" not in line:\n",
    "            line = fp.readline()\n",
    "            line_count += 1       \n",
    "        \n",
    "        MH = line[5:-1]\n",
    "        while \"MN\" not in line:\n",
    "            line = fp.readline()\n",
    "            line_count += 1\n",
    "\n",
    "        has_correct_MN = False\n",
    "        while \"MN\" in line:\n",
    "            if \"Z01.107.567.875.\" in line:\n",
    "                has_correct_MN = True\n",
    "            line = fp.readline()\n",
    "            line_count += 1\n",
    "\n",
    "        if has_correct_MN:\n",
    "            val_count += 1\n",
    "            relevant_terms.append(MH)\n",
    "\n",
    "        while \"*NEWRECORD\" not in line and line != '':\n",
    "            line = fp.readline()\n",
    "            line_count += 1\n",
    "    except:\n",
    "        err_count += 1\n",
    "        line = \" \"\n",
    "        while \"*NEWRECORD\" not in line and line != '':\n",
    "            line = fp.readline()\n",
    "            line_count += 1\n",
    "print('Complete', val_count, err_count) # Extracted 401 Geo Locations Terms and added to relevant_terms\n",
    "fp.close()"
   ]
  },
  {
   "cell_type": "code",
   "execution_count": 3,
   "metadata": {},
   "outputs": [
    {
     "data": {
      "text/html": [
       "<div>\n",
       "<style scoped>\n",
       "    .dataframe tbody tr th:only-of-type {\n",
       "        vertical-align: middle;\n",
       "    }\n",
       "\n",
       "    .dataframe tbody tr th {\n",
       "        vertical-align: top;\n",
       "    }\n",
       "\n",
       "    .dataframe thead th {\n",
       "        text-align: right;\n",
       "    }\n",
       "</style>\n",
       "<table border=\"1\" class=\"dataframe\">\n",
       "  <thead>\n",
       "    <tr style=\"text-align: right;\">\n",
       "      <th></th>\n",
       "      <th>Unnamed: 0</th>\n",
       "      <th>PMID</th>\n",
       "      <th>Journal</th>\n",
       "      <th>PT</th>\n",
       "      <th>Title</th>\n",
       "      <th>Abstract</th>\n",
       "      <th>MeSH Terms</th>\n",
       "    </tr>\n",
       "  </thead>\n",
       "  <tbody>\n",
       "    <tr>\n",
       "      <th>0</th>\n",
       "      <td>0</td>\n",
       "      <td>28511272</td>\n",
       "      <td>U.S. Army Medical Department journal</td>\n",
       "      <td>['Journal Article']</td>\n",
       "      <td>A location-specific spreadsheet for estimating...</td>\n",
       "      <td>Local Zika virus transmission in the United St...</td>\n",
       "      <td>['Aedes/*virology', 'Animals', 'Ecosystem', 'E...</td>\n",
       "    </tr>\n",
       "    <tr>\n",
       "      <th>1</th>\n",
       "      <td>1</td>\n",
       "      <td>28722594</td>\n",
       "      <td>The American journal of tropical medicine and ...</td>\n",
       "      <td>['Case Reports', 'Journal Article']</td>\n",
       "      <td>Fatal Leptospira spp./Zika Virus Coinfection-P...</td>\n",
       "      <td>Coinfection with pathogens that cause acute fe...</td>\n",
       "      <td>['Coinfection/epidemiology', 'Fatal Outcome', ...</td>\n",
       "    </tr>\n",
       "    <tr>\n",
       "      <th>2</th>\n",
       "      <td>2</td>\n",
       "      <td>29723166</td>\n",
       "      <td>MMWR. Morbidity and mortality weekly report</td>\n",
       "      <td>['Journal Article']</td>\n",
       "      <td>Vital Signs: Trends in Reported Vectorborne Di...</td>\n",
       "      <td>INTRODUCTION: Vectorborne diseases are major c...</td>\n",
       "      <td>['American Samoa/epidemiology', 'Animals', 'Ch...</td>\n",
       "    </tr>\n",
       "    <tr>\n",
       "      <th>3</th>\n",
       "      <td>3</td>\n",
       "      <td>28300974</td>\n",
       "      <td>Cadernos de saude publica</td>\n",
       "      <td>['Journal Article']</td>\n",
       "      <td>From unplanned pregnancy to contraception: con...</td>\n",
       "      <td>NaN</td>\n",
       "      <td>['Abortion, Criminal', 'Adolescent', 'Brazil',...</td>\n",
       "    </tr>\n",
       "    <tr>\n",
       "      <th>4</th>\n",
       "      <td>4</td>\n",
       "      <td>26898855</td>\n",
       "      <td>Lancet (London, England)</td>\n",
       "      <td>['Letter']</td>\n",
       "      <td>CDC guidelines for pregnant women during the Z...</td>\n",
       "      <td>NaN</td>\n",
       "      <td>['*Amniocentesis/adverse effects', 'Centers fo...</td>\n",
       "    </tr>\n",
       "  </tbody>\n",
       "</table>\n",
       "</div>"
      ],
      "text/plain": [
       "   Unnamed: 0      PMID                                            Journal  \\\n",
       "0           0  28511272               U.S. Army Medical Department journal   \n",
       "1           1  28722594  The American journal of tropical medicine and ...   \n",
       "2           2  29723166        MMWR. Morbidity and mortality weekly report   \n",
       "3           3  28300974                          Cadernos de saude publica   \n",
       "4           4  26898855                           Lancet (London, England)   \n",
       "\n",
       "                                    PT  \\\n",
       "0                  ['Journal Article']   \n",
       "1  ['Case Reports', 'Journal Article']   \n",
       "2                  ['Journal Article']   \n",
       "3                  ['Journal Article']   \n",
       "4                           ['Letter']   \n",
       "\n",
       "                                               Title  \\\n",
       "0  A location-specific spreadsheet for estimating...   \n",
       "1  Fatal Leptospira spp./Zika Virus Coinfection-P...   \n",
       "2  Vital Signs: Trends in Reported Vectorborne Di...   \n",
       "3  From unplanned pregnancy to contraception: con...   \n",
       "4  CDC guidelines for pregnant women during the Z...   \n",
       "\n",
       "                                            Abstract  \\\n",
       "0  Local Zika virus transmission in the United St...   \n",
       "1  Coinfection with pathogens that cause acute fe...   \n",
       "2  INTRODUCTION: Vectorborne diseases are major c...   \n",
       "3                                                NaN   \n",
       "4                                                NaN   \n",
       "\n",
       "                                          MeSH Terms  \n",
       "0  ['Aedes/*virology', 'Animals', 'Ecosystem', 'E...  \n",
       "1  ['Coinfection/epidemiology', 'Fatal Outcome', ...  \n",
       "2  ['American Samoa/epidemiology', 'Animals', 'Ch...  \n",
       "3  ['Abortion, Criminal', 'Adolescent', 'Brazil',...  \n",
       "4  ['*Amniocentesis/adverse effects', 'Centers fo...  "
      ]
     },
     "execution_count": 3,
     "metadata": {},
     "output_type": "execute_result"
    }
   ],
   "source": [
    "zika_df = pd.read_csv('./zika_inf_data.csv') # Read in PubMed Search Results obtained using BioPython\n",
    "zika_df.head(5) # Data needs cleaning,  MeSH_Terms column has the data"
   ]
  },
  {
   "cell_type": "code",
   "execution_count": 4,
   "metadata": {},
   "outputs": [],
   "source": [
    "zika_df = zika_df.drop(columns=['Unnamed: 0', 'PMID', 'Journal', 'PT', 'Title', 'Abstract']) \n",
    "# Drop first column and all other columns, keep only MeSH column and index"
   ]
  },
  {
   "cell_type": "code",
   "execution_count": 5,
   "metadata": {},
   "outputs": [
    {
     "data": {
      "text/plain": [
       "(1637, 1)"
      ]
     },
     "execution_count": 5,
     "metadata": {},
     "output_type": "execute_result"
    }
   ],
   "source": [
    "zika_df.shape"
   ]
  },
  {
   "cell_type": "code",
   "execution_count": 6,
   "metadata": {},
   "outputs": [
    {
     "data": {
      "text/plain": [
       "Index(['MeSH Terms'], dtype='object')"
      ]
     },
     "execution_count": 6,
     "metadata": {},
     "output_type": "execute_result"
    }
   ],
   "source": [
    "zika_df.columns"
   ]
  },
  {
   "cell_type": "code",
   "execution_count": 7,
   "metadata": {},
   "outputs": [
    {
     "data": {
      "text/plain": [
       "[[], [], [], [], [], [], 'Florida', [], [], []]"
      ]
     },
     "execution_count": 7,
     "metadata": {},
     "output_type": "execute_result"
    }
   ],
   "source": [
    "# zika_df.mesh_terms contains the information we need to analyze\n",
    "# Code for cleaning and extracting each relevant MeSH terms for each row e.g. row [0] only terms that are relevant are the Geo terms\n",
    "\n",
    "zika_df['MeSH Terms'] = zika_df['MeSH Terms'].str.strip('[]') # Remove square brackets from MeSH terms\n",
    "zika_df['MeSH Terms'] = zika_df['MeSH Terms'].str.replace('*', '') # Remove star to designate major MeSH terms\n",
    "rel_terms = set(relevant_terms) # Convert relevant_terms to set for ease of finding intersection\n",
    "\n",
    "final_terms = [] # Intitialize list of terms for analysis this will be a list of 8848 lists\n",
    "final_simple_list = [] # Intitialize list of terms for analysis this will be a simple list of 8848 rows with relevant term(s) in each row \n",
    "\n",
    "for temp_mt in zika_df['MeSH Terms']:  # To extract each MeSH term from each row\n",
    "    t = temp_mt.split('\"') # To remove terms with double quotes (e.g. \"Nurse's Role\")\n",
    "    if  len(t) > 2:\n",
    "        temp_mt = t[0]+t[2][2:]\n",
    "    elif len(t) == 2 and temp_mt[0] != '\"':\n",
    "        temp_mt = t[0]\n",
    "    elif len(t) == 2:\n",
    "        temp_mt = t[1][2:]\n",
    "    \n",
    "    end_mt= -1  # Initializing for start of search \n",
    "    mt_set = set() # Initializing an empty set to capture all the MeSH terms in each row, this set will be used to keep only the terms in the relevant_list (or rel_list)\n",
    "    \n",
    "    while (temp_mt.find(\"'\", end_mt+1) != -1):   # Loop through until all terms have been found  \n",
    "\n",
    "        start_mt = temp_mt.find(\"'\", end_mt+1) # Find beginning and end quotes to extract MeSH term\n",
    "        end_mt = temp_mt.find(\"'\", start_mt+1)\n",
    "    \n",
    "        slash_pos = temp_mt[start_mt+1 : end_mt].find(\"/\") # To delete subheadings when present\n",
    "        if slash_pos != -1:\n",
    "            truncated_mt= temp_mt[start_mt+1 : start_mt+slash_pos+1]\n",
    "        else:\n",
    "            truncated_mt= temp_mt[start_mt+1 : end_mt]     \n",
    "        \n",
    "        mt_set.add(truncated_mt) # mt_set contains all MeSH terms for the row\n",
    "        \n",
    "    intersect = mt_set & rel_terms # Keeps only the MeSH terms from row that are relevant_terms \n",
    "    if len(intersect) > 0:\n",
    "        final_terms.append([term.replace(' ','_') for term in intersect])\n",
    "        final_simple_list.append(' '.join(final_terms[-1])) # Space separated\n",
    "    else:\n",
    "        final_terms.append([])\n",
    "        final_simple_list.append([])\n",
    "    # For every term which is in both relevant terms and mt_set, replace spaces with underscores so that CountVectorizer does not split the term up into words\n",
    "    # add to final_terms list\n",
    "\n",
    "final_terms[0:10] # List of lists for each PMID\n",
    "final_simple_list[:10] # Single list of MeSH terms in each row"
   ]
  },
  {
   "cell_type": "code",
   "execution_count": 8,
   "metadata": {},
   "outputs": [
    {
     "data": {
      "text/html": [
       "<div>\n",
       "<style scoped>\n",
       "    .dataframe tbody tr th:only-of-type {\n",
       "        vertical-align: middle;\n",
       "    }\n",
       "\n",
       "    .dataframe tbody tr th {\n",
       "        vertical-align: top;\n",
       "    }\n",
       "\n",
       "    .dataframe thead th {\n",
       "        text-align: right;\n",
       "    }\n",
       "</style>\n",
       "<table border=\"1\" class=\"dataframe\">\n",
       "  <thead>\n",
       "    <tr style=\"text-align: right;\">\n",
       "      <th></th>\n",
       "      <th>California</th>\n",
       "      <th>Colorado</th>\n",
       "      <th>District_of_Columbia</th>\n",
       "      <th>Florida</th>\n",
       "      <th>Georgia</th>\n",
       "      <th>Hawaii</th>\n",
       "      <th>Los_Angeles</th>\n",
       "      <th>Maryland</th>\n",
       "      <th>Massachusetts</th>\n",
       "      <th>Michigan</th>\n",
       "      <th>...</th>\n",
       "      <th>New_York_City</th>\n",
       "      <th>North_Carolina</th>\n",
       "      <th>North_Dakota</th>\n",
       "      <th>Ohio</th>\n",
       "      <th>Southeastern_United_States</th>\n",
       "      <th>Tennessee</th>\n",
       "      <th>Texas</th>\n",
       "      <th>Utah</th>\n",
       "      <th>Virginia</th>\n",
       "      <th>Wisconsin</th>\n",
       "    </tr>\n",
       "  </thead>\n",
       "  <tbody>\n",
       "    <tr>\n",
       "      <th>0</th>\n",
       "      <td>0</td>\n",
       "      <td>0</td>\n",
       "      <td>0</td>\n",
       "      <td>1</td>\n",
       "      <td>0</td>\n",
       "      <td>0</td>\n",
       "      <td>0</td>\n",
       "      <td>0</td>\n",
       "      <td>0</td>\n",
       "      <td>0</td>\n",
       "      <td>...</td>\n",
       "      <td>0</td>\n",
       "      <td>0</td>\n",
       "      <td>0</td>\n",
       "      <td>0</td>\n",
       "      <td>0</td>\n",
       "      <td>0</td>\n",
       "      <td>0</td>\n",
       "      <td>0</td>\n",
       "      <td>0</td>\n",
       "      <td>0</td>\n",
       "    </tr>\n",
       "    <tr>\n",
       "      <th>1</th>\n",
       "      <td>0</td>\n",
       "      <td>0</td>\n",
       "      <td>0</td>\n",
       "      <td>1</td>\n",
       "      <td>0</td>\n",
       "      <td>0</td>\n",
       "      <td>0</td>\n",
       "      <td>0</td>\n",
       "      <td>0</td>\n",
       "      <td>0</td>\n",
       "      <td>...</td>\n",
       "      <td>0</td>\n",
       "      <td>0</td>\n",
       "      <td>0</td>\n",
       "      <td>0</td>\n",
       "      <td>0</td>\n",
       "      <td>0</td>\n",
       "      <td>0</td>\n",
       "      <td>0</td>\n",
       "      <td>0</td>\n",
       "      <td>0</td>\n",
       "    </tr>\n",
       "    <tr>\n",
       "      <th>2</th>\n",
       "      <td>0</td>\n",
       "      <td>0</td>\n",
       "      <td>0</td>\n",
       "      <td>1</td>\n",
       "      <td>0</td>\n",
       "      <td>0</td>\n",
       "      <td>0</td>\n",
       "      <td>0</td>\n",
       "      <td>0</td>\n",
       "      <td>0</td>\n",
       "      <td>...</td>\n",
       "      <td>0</td>\n",
       "      <td>0</td>\n",
       "      <td>0</td>\n",
       "      <td>0</td>\n",
       "      <td>0</td>\n",
       "      <td>0</td>\n",
       "      <td>0</td>\n",
       "      <td>0</td>\n",
       "      <td>0</td>\n",
       "      <td>0</td>\n",
       "    </tr>\n",
       "    <tr>\n",
       "      <th>3</th>\n",
       "      <td>0</td>\n",
       "      <td>0</td>\n",
       "      <td>0</td>\n",
       "      <td>0</td>\n",
       "      <td>0</td>\n",
       "      <td>0</td>\n",
       "      <td>0</td>\n",
       "      <td>0</td>\n",
       "      <td>1</td>\n",
       "      <td>0</td>\n",
       "      <td>...</td>\n",
       "      <td>0</td>\n",
       "      <td>0</td>\n",
       "      <td>0</td>\n",
       "      <td>0</td>\n",
       "      <td>0</td>\n",
       "      <td>0</td>\n",
       "      <td>0</td>\n",
       "      <td>0</td>\n",
       "      <td>0</td>\n",
       "      <td>0</td>\n",
       "    </tr>\n",
       "    <tr>\n",
       "      <th>4</th>\n",
       "      <td>0</td>\n",
       "      <td>0</td>\n",
       "      <td>0</td>\n",
       "      <td>1</td>\n",
       "      <td>0</td>\n",
       "      <td>0</td>\n",
       "      <td>0</td>\n",
       "      <td>0</td>\n",
       "      <td>0</td>\n",
       "      <td>0</td>\n",
       "      <td>...</td>\n",
       "      <td>0</td>\n",
       "      <td>0</td>\n",
       "      <td>0</td>\n",
       "      <td>0</td>\n",
       "      <td>0</td>\n",
       "      <td>0</td>\n",
       "      <td>1</td>\n",
       "      <td>0</td>\n",
       "      <td>0</td>\n",
       "      <td>1</td>\n",
       "    </tr>\n",
       "  </tbody>\n",
       "</table>\n",
       "<p>5 rows × 23 columns</p>\n",
       "</div>"
      ],
      "text/plain": [
       "   California  Colorado  District_of_Columbia  Florida  Georgia  Hawaii  \\\n",
       "0           0         0                     0        1        0       0   \n",
       "1           0         0                     0        1        0       0   \n",
       "2           0         0                     0        1        0       0   \n",
       "3           0         0                     0        0        0       0   \n",
       "4           0         0                     0        1        0       0   \n",
       "\n",
       "   Los_Angeles  Maryland  Massachusetts  Michigan  ...  New_York_City  \\\n",
       "0            0         0              0         0  ...              0   \n",
       "1            0         0              0         0  ...              0   \n",
       "2            0         0              0         0  ...              0   \n",
       "3            0         0              1         0  ...              0   \n",
       "4            0         0              0         0  ...              0   \n",
       "\n",
       "   North_Carolina  North_Dakota  Ohio  Southeastern_United_States  Tennessee  \\\n",
       "0               0             0     0                           0          0   \n",
       "1               0             0     0                           0          0   \n",
       "2               0             0     0                           0          0   \n",
       "3               0             0     0                           0          0   \n",
       "4               0             0     0                           0          0   \n",
       "\n",
       "   Texas  Utah  Virginia  Wisconsin  \n",
       "0      0     0         0          0  \n",
       "1      0     0         0          0  \n",
       "2      0     0         0          0  \n",
       "3      0     0         0          0  \n",
       "4      1     0         0          1  \n",
       "\n",
       "[5 rows x 23 columns]"
      ]
     },
     "execution_count": 8,
     "metadata": {},
     "output_type": "execute_result"
    }
   ],
   "source": [
    "# Use CountVectorizer to select terms with frequency of at least 1 after trying different numbers\n",
    "disease_set = ['Zika_Virus_Infection']\n",
    "filtered_model = []\n",
    "for item in final_terms:\n",
    "      if set(item).issubset(set(disease_set))==False:\n",
    "#    if set(item) not in (set(disease_set)):\n",
    "#       filtered_model.append(item)\n",
    "        filtered_model.append(' '.join(item)) \n",
    "    \n",
    "def csv_analyzer(s):\n",
    "    \"split on space\" \n",
    "    return [term for term in s.split()]    \n",
    "vect = CountVectorizer(analyzer=csv_analyzer, min_df=1) \n",
    "F = filtered_model\n",
    "F1 = vect.fit_transform(F)\n",
    "\n",
    "fmf = pd.DataFrame(vect.fit_transform(filtered_model).toarray(), columns=vect.get_feature_names())\n",
    "fmf.shape\n",
    "fmf.head(5)"
   ]
  },
  {
   "cell_type": "code",
   "execution_count": 9,
   "metadata": {},
   "outputs": [
    {
     "name": "stdout",
     "output_type": "stream",
     "text": [
      "   California  Colorado  District_of_Columbia  Florida  Georgia  Hawaii  \\\n",
      "0           4         2                     6       41        4       2   \n",
      "\n",
      "   Los_Angeles  Maryland  Massachusetts  Michigan  ...  New_York_City  \\\n",
      "0            1         1              4         2  ...             17   \n",
      "\n",
      "   North_Carolina  North_Dakota  Ohio  Southeastern_United_States  Tennessee  \\\n",
      "0               1             1     1                           2          1   \n",
      "\n",
      "   Texas  Utah  Virginia  Wisconsin  \n",
      "0     18     3         1          1  \n",
      "\n",
      "[1 rows x 23 columns]\n"
     ]
    }
   ],
   "source": [
    "vect = CountVectorizer(analyzer=csv_analyzer, min_df=1, lowercase=False) \n",
    "fmf = pd.DataFrame(vect.fit_transform(filtered_model).toarray(), columns=vect.get_feature_names())\n",
    "df = vect.fit_transform(filtered_model).toarray().sum(axis=0)\n",
    "z_americas_freq = pd.DataFrame(df.reshape(1, 23), columns=vect.get_feature_names())\n",
    "print(z_americas_freq)"
   ]
  },
  {
   "cell_type": "code",
   "execution_count": 10,
   "metadata": {},
   "outputs": [
    {
     "data": {
      "image/png": "[encoded data removed]",
      "text/plain": [
       "<Figure size 720x576 with 2 Axes>"
      ]
     },
     "metadata": {
      "needs_background": "light"
     },
     "output_type": "display_data"
    }
   ],
   "source": [
    "# Plot heatmap, this plots map of each 23 Geo terms in each row of the Dataframe\n",
    "plt.figure(figsize=(10,8))\n",
    "sns.heatmap(fmf);"
   ]
  },
  {
   "cell_type": "code",
   "execution_count": 11,
   "metadata": {},
   "outputs": [
    {
     "data": {
      "text/plain": [
       "[Text(0, 0, 'California'),\n",
       " Text(0, 0, 'Colorado'),\n",
       " Text(0, 0, 'District_of_Columbia'),\n",
       " Text(0, 0, 'Florida'),\n",
       " Text(0, 0, 'Georgia'),\n",
       " Text(0, 0, 'Hawaii'),\n",
       " Text(0, 0, 'Los_Angeles'),\n",
       " Text(0, 0, 'Maryland'),\n",
       " Text(0, 0, 'Massachusetts'),\n",
       " Text(0, 0, 'Michigan'),\n",
       " Text(0, 0, 'Minnesota'),\n",
       " Text(0, 0, 'Mississippi'),\n",
       " Text(0, 0, 'New_York'),\n",
       " Text(0, 0, 'New_York_City'),\n",
       " Text(0, 0, 'North_Carolina'),\n",
       " Text(0, 0, 'North_Dakota'),\n",
       " Text(0, 0, 'Ohio'),\n",
       " Text(0, 0, 'Southeastern_United_States'),\n",
       " Text(0, 0, 'Tennessee'),\n",
       " Text(0, 0, 'Texas'),\n",
       " Text(0, 0, 'Utah'),\n",
       " Text(0, 0, 'Virginia'),\n",
       " Text(0, 0, 'Wisconsin')]"
      ]
     },
     "execution_count": 11,
     "metadata": {},
     "output_type": "execute_result"
    },
    {
     "data": {
      "image/png": "[encoded data removed]",
      "text/plain": [
       "<Figure size 1008x720 with 1 Axes>"
      ]
     },
     "metadata": {
      "needs_background": "light"
     },
     "output_type": "display_data"
    }
   ],
   "source": [
    "# Bar plot\n",
    "plt.figure(figsize=(14,10))\n",
    "ax = sns.barplot(data=z_americas_freq)\n",
    "ax.set_xticklabels(ax.get_xticklabels(), rotation=45, horizontalalignment='right')"
   ]
  },
  {
   "cell_type": "markdown",
   "metadata": {},
   "source": [
    "# Results and Conclusion: \n",
    "### Heat map and Bar chart of U.S. states (and some regions and cities) in the U.S. that had Zika Virus infection cases."
   ]
  },
  {
   "cell_type": "code",
   "execution_count": null,
   "metadata": {},
   "outputs": [],
   "source": []
  },
  {
   "cell_type": "code",
   "execution_count": null,
   "metadata": {},
   "outputs": [],
   "source": []
  },
  {
   "cell_type": "code",
   "execution_count": null,
   "metadata": {},
   "outputs": [],
   "source": []
  },
  {
   "cell_type": "code",
   "execution_count": null,
   "metadata": {},
   "outputs": [],
   "source": []
  }
 ],
 "metadata": {
  "kernelspec": {
   "display_name": "Python 3",
   "language": "python",
   "name": "python3"
  },
  "language_info": {
   "codemirror_mode": {
    "name": "ipython",
    "version": 3
   },
   "file_extension": ".py",
   "mimetype": "text/x-python",
   "name": "python",
   "nbconvert_exporter": "python",
   "pygments_lexer": "ipython3",
   "version": "3.7.3"
  }
 },
 "nbformat": 4,
 "nbformat_minor": 2
}
